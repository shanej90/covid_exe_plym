{
 "cells": [
  {
   "cell_type": "markdown",
   "id": "c80864d5",
   "metadata": {},
   "source": [
    "# Playing w/ Covid19 data in Python"
   ]
  },
  {
   "cell_type": "code",
   "execution_count": 12,
   "id": "658d7bf7",
   "metadata": {},
   "outputs": [],
   "source": [
    "#libraries\n",
    "import requests as req\n",
    "import matplotlib.pyplot as plt\n",
    "import numpy as np\n",
    "import pandas as pd\n",
    "from datetime import datetime as dt\n",
    "import datetime\n",
    "from plotnine import *\n",
    "import regex as re"
   ]
  },
  {
   "cell_type": "markdown",
   "id": "ba97212e",
   "metadata": {},
   "source": [
    "## Functions to make working w/ data easier"
   ]
  },
  {
   "cell_type": "markdown",
   "id": "10c9f807",
   "metadata": {},
   "source": [
    "### Calling the data from the API"
   ]
  },
  {
   "cell_type": "code",
   "execution_count": 13,
   "id": "bcba7107",
   "metadata": {},
   "outputs": [],
   "source": [
    "#function to call api\n",
    "def get_covid_api_json_data(area_type, area_code, measure):\n",
    "    \n",
    "    #define parameters\n",
    "    parameters = {\n",
    "        \"areaType\": area_type,\n",
    "        \"areaCode\": area_code,\n",
    "        \"metric\": measure,\n",
    "        \"format\": \"json\"\n",
    "    }\n",
    "    \n",
    "    #request\n",
    "    response = req.get(\"https://api.coronavirus.data.gov.uk/v2/data\", params = parameters)\n",
    "    \n",
    "    #make sure you got a response - stop if not, showing the code\n",
    "    if response.status_code >= 400:\n",
    "        return print(f\"Response error {response.status_code}\")\n",
    "    \n",
    "    #json\n",
    "    response_json = response.json()\n",
    "    \n",
    "    #convert to df\n",
    "    return pd.json_normalize(\n",
    "        response_json[\"body\"], \n",
    "        record_path = [measure],\n",
    "        meta = [\"areaCode\", \"areaType\", \"areaName\", \"date\", \"metric\"]\n",
    "    )\n",
    "    "
   ]
  },
  {
   "cell_type": "markdown",
   "id": "f392d839",
   "metadata": {},
   "source": [
    "### Processing the data"
   ]
  },
  {
   "cell_type": "code",
   "execution_count": 21,
   "id": "3ae5be60",
   "metadata": {},
   "outputs": [],
   "source": [
    "#function to group data into new age bands\n",
    "def group_by_broad_age_bands(data):\n",
    "    #start by setting 'case statements' for age groupings\n",
    "    age_conditions = [\n",
    "        data[\"age\"].isin([\"00_04\", \"05_09\", \"10_14\", \"15_19\"]),\n",
    "        data[\"age\"].isin([\"20_24\", \"25_29\", \"30_34\", \"35_39\"]),\n",
    "        data[\"age\"].isin([\"40_44\", \"45_49\", \"50_54\", \"55_59\"]),\n",
    "        data[\"age\"].isin([\"60_64\", \"65_69\", \"70_74\", \"75_79\"]),\n",
    "        data[\"age\"].isin([\"80_84\", \"85_89\", \"90+\"]),\n",
    "        data[\"age\"].isin([\"00_59\", \"60+\", \"unassigned\"])\n",
    "    ]\n",
    "    \n",
    "    age_choices = [\"<20\", \"20 - 39\", \"40 - 59\", \"60 - 79\", \"80+\", \"Discard\"]\n",
    "    \n",
    "    #add new age band\n",
    "    data[\"broad_age\"] = np.select(age_conditions, age_choices)\n",
    "    #convert date to date format (currently string)\n",
    "    data[\"date\"] =  pd.to_datetime(data[\"date\"])\n",
    "    \n",
    "    #work out min date for inclusion\n",
    "    min_date = max(data[\"date\"]) - datetime.timedelta(31)\n",
    "    #filter dates\n",
    "    data = data[data[\"date\"] >= min_date]\n",
    "    \n",
    "    #wrangle the data\n",
    "    grouped = (\n",
    "        data.\n",
    "        #filter out irrelevant ages\n",
    "        query(\"age not in ['00_59', '60+', 'unassigned']\").\n",
    "        #create new age groups\n",
    "        groupby([\"areaName\", \"date\", \"broad_age\"], as_index = False).\n",
    "        agg({\"rollingSum\":\"sum\"})\n",
    "    )\n",
    "    \n",
    "    #categorise broad age column\n",
    "    grouped[\"broad_age\"] = pd.Categorical(\n",
    "        grouped[\"broad_age\"],\n",
    "        categories = [\"<20\", \"20 - 39\", \"40 - 59\", \"60 - 79\", \"80+\"],\n",
    "        ordered = True\n",
    "    )\n",
    "    \n",
    "    return grouped\n",
    "    "
   ]
  },
  {
   "cell_type": "markdown",
   "id": "33f96c00",
   "metadata": {},
   "source": [
    "### Plotting the data"
   ]
  },
  {
   "cell_type": "code",
   "execution_count": 24,
   "id": "571fc6e7",
   "metadata": {},
   "outputs": [],
   "source": [
    "#function to plot data using plotnine\n",
    "def plot_covid_data(data):\n",
    "    \n",
    "    return (ggplot(data)\n",
    "       #geoms\n",
    "      + geom_col(aes(x = 'date', y = 'rollingSum', fill = \"broad_age\")) \n",
    "       #scales\n",
    "       + scale_x_datetime(name = \"Specimen date\", date_breaks = \"1 week\")\n",
    "       + scale_y_continuous(name = \"Seven-day rolling sum of cases\") \n",
    "       + scale_fill_discrete(name = \"Age band\")\n",
    "       #labels\n",
    "       +labs(\n",
    "       title = f\"Covid cases in {np.unique(data['areaName'])[0]}\" \n",
    "       )\n",
    "       #formatting\n",
    "       + theme_minimal()\n",
    "       + theme(\n",
    "       axis_title = element_text(face = \"bold\"),\n",
    "       legend_title = element_text(face = \"bold\")    \n",
    "       )\n",
    "      )\n",
    "    "
   ]
  },
  {
   "cell_type": "markdown",
   "id": "b3cf8e45",
   "metadata": {},
   "source": [
    "## Now try passing parameters through functions"
   ]
  },
  {
   "cell_type": "code",
   "execution_count": 15,
   "id": "4f0e9f47",
   "metadata": {},
   "outputs": [
    {
     "data": {
      "text/html": [
       "<div>\n",
       "<style scoped>\n",
       "    .dataframe tbody tr th:only-of-type {\n",
       "        vertical-align: middle;\n",
       "    }\n",
       "\n",
       "    .dataframe tbody tr th {\n",
       "        vertical-align: top;\n",
       "    }\n",
       "\n",
       "    .dataframe thead th {\n",
       "        text-align: right;\n",
       "    }\n",
       "</style>\n",
       "<table border=\"1\" class=\"dataframe\">\n",
       "  <thead>\n",
       "    <tr style=\"text-align: right;\">\n",
       "      <th></th>\n",
       "      <th>age</th>\n",
       "      <th>cases</th>\n",
       "      <th>rollingSum</th>\n",
       "      <th>rollingRate</th>\n",
       "      <th>areaCode</th>\n",
       "      <th>areaType</th>\n",
       "      <th>areaName</th>\n",
       "      <th>date</th>\n",
       "      <th>metric</th>\n",
       "    </tr>\n",
       "  </thead>\n",
       "  <tbody>\n",
       "    <tr>\n",
       "      <th>0</th>\n",
       "      <td>00_04</td>\n",
       "      <td>6</td>\n",
       "      <td>22</td>\n",
       "      <td>355.6</td>\n",
       "      <td>ltla</td>\n",
       "      <td>E07000041</td>\n",
       "      <td>Exeter</td>\n",
       "      <td>2022-03-06</td>\n",
       "      <td>newCasesBySpecimenDateAgeDemographics</td>\n",
       "    </tr>\n",
       "    <tr>\n",
       "      <th>1</th>\n",
       "      <td>00_59</td>\n",
       "      <td>107</td>\n",
       "      <td>608</td>\n",
       "      <td>573.1</td>\n",
       "      <td>ltla</td>\n",
       "      <td>E07000041</td>\n",
       "      <td>Exeter</td>\n",
       "      <td>2022-03-06</td>\n",
       "      <td>newCasesBySpecimenDateAgeDemographics</td>\n",
       "    </tr>\n",
       "    <tr>\n",
       "      <th>2</th>\n",
       "      <td>05_09</td>\n",
       "      <td>7</td>\n",
       "      <td>36</td>\n",
       "      <td>532.5</td>\n",
       "      <td>ltla</td>\n",
       "      <td>E07000041</td>\n",
       "      <td>Exeter</td>\n",
       "      <td>2022-03-06</td>\n",
       "      <td>newCasesBySpecimenDateAgeDemographics</td>\n",
       "    </tr>\n",
       "    <tr>\n",
       "      <th>3</th>\n",
       "      <td>10_14</td>\n",
       "      <td>9</td>\n",
       "      <td>48</td>\n",
       "      <td>753.4</td>\n",
       "      <td>ltla</td>\n",
       "      <td>E07000041</td>\n",
       "      <td>Exeter</td>\n",
       "      <td>2022-03-06</td>\n",
       "      <td>newCasesBySpecimenDateAgeDemographics</td>\n",
       "    </tr>\n",
       "    <tr>\n",
       "      <th>4</th>\n",
       "      <td>15_19</td>\n",
       "      <td>5</td>\n",
       "      <td>31</td>\n",
       "      <td>331.5</td>\n",
       "      <td>ltla</td>\n",
       "      <td>E07000041</td>\n",
       "      <td>Exeter</td>\n",
       "      <td>2022-03-06</td>\n",
       "      <td>newCasesBySpecimenDateAgeDemographics</td>\n",
       "    </tr>\n",
       "  </tbody>\n",
       "</table>\n",
       "</div>"
      ],
      "text/plain": [
       "     age  cases  rollingSum  rollingRate areaCode   areaType areaName  \\\n",
       "0  00_04      6          22        355.6     ltla  E07000041   Exeter   \n",
       "1  00_59    107         608        573.1     ltla  E07000041   Exeter   \n",
       "2  05_09      7          36        532.5     ltla  E07000041   Exeter   \n",
       "3  10_14      9          48        753.4     ltla  E07000041   Exeter   \n",
       "4  15_19      5          31        331.5     ltla  E07000041   Exeter   \n",
       "\n",
       "         date                                 metric  \n",
       "0  2022-03-06  newCasesBySpecimenDateAgeDemographics  \n",
       "1  2022-03-06  newCasesBySpecimenDateAgeDemographics  \n",
       "2  2022-03-06  newCasesBySpecimenDateAgeDemographics  \n",
       "3  2022-03-06  newCasesBySpecimenDateAgeDemographics  \n",
       "4  2022-03-06  newCasesBySpecimenDateAgeDemographics  "
      ]
     },
     "execution_count": 15,
     "metadata": {},
     "output_type": "execute_result"
    }
   ],
   "source": [
    "#request data for exeter, and plymouth\n",
    "exe_raw = get_covid_api_json_data(\n",
    "    area_type = \"ltla\",\n",
    "    area_code = \"E07000041\", #Exeter\n",
    "    measure = \"newCasesBySpecimenDateAgeDemographics\"\n",
    ")\n",
    "\n",
    "plym_raw = get_covid_api_json_data(\n",
    "    area_type = \"ltla\",\n",
    "    area_code = \"E06000026\", #Plymouth\n",
    "    measure = \"newCasesBySpecimenDateAgeDemographics\"\n",
    ")\n",
    "\n",
    "exe_raw.head(5)\n"
   ]
  },
  {
   "cell_type": "code",
   "execution_count": 23,
   "id": "2b5ed9d2",
   "metadata": {},
   "outputs": [
    {
     "data": {
      "text/html": [
       "<div>\n",
       "<style scoped>\n",
       "    .dataframe tbody tr th:only-of-type {\n",
       "        vertical-align: middle;\n",
       "    }\n",
       "\n",
       "    .dataframe tbody tr th {\n",
       "        vertical-align: top;\n",
       "    }\n",
       "\n",
       "    .dataframe thead th {\n",
       "        text-align: right;\n",
       "    }\n",
       "</style>\n",
       "<table border=\"1\" class=\"dataframe\">\n",
       "  <thead>\n",
       "    <tr style=\"text-align: right;\">\n",
       "      <th></th>\n",
       "      <th>areaName</th>\n",
       "      <th>date</th>\n",
       "      <th>broad_age</th>\n",
       "      <th>rollingSum</th>\n",
       "    </tr>\n",
       "  </thead>\n",
       "  <tbody>\n",
       "    <tr>\n",
       "      <th>0</th>\n",
       "      <td>Plymouth</td>\n",
       "      <td>2022-02-03</td>\n",
       "      <td>20 - 39</td>\n",
       "      <td>1129</td>\n",
       "    </tr>\n",
       "    <tr>\n",
       "      <th>1</th>\n",
       "      <td>Plymouth</td>\n",
       "      <td>2022-02-03</td>\n",
       "      <td>40 - 59</td>\n",
       "      <td>777</td>\n",
       "    </tr>\n",
       "    <tr>\n",
       "      <th>2</th>\n",
       "      <td>Plymouth</td>\n",
       "      <td>2022-02-03</td>\n",
       "      <td>60 - 79</td>\n",
       "      <td>258</td>\n",
       "    </tr>\n",
       "    <tr>\n",
       "      <th>3</th>\n",
       "      <td>Plymouth</td>\n",
       "      <td>2022-02-03</td>\n",
       "      <td>80+</td>\n",
       "      <td>67</td>\n",
       "    </tr>\n",
       "    <tr>\n",
       "      <th>4</th>\n",
       "      <td>Plymouth</td>\n",
       "      <td>2022-02-03</td>\n",
       "      <td>&lt;20</td>\n",
       "      <td>985</td>\n",
       "    </tr>\n",
       "  </tbody>\n",
       "</table>\n",
       "</div>"
      ],
      "text/plain": [
       "   areaName       date broad_age  rollingSum\n",
       "0  Plymouth 2022-02-03   20 - 39        1129\n",
       "1  Plymouth 2022-02-03   40 - 59         777\n",
       "2  Plymouth 2022-02-03   60 - 79         258\n",
       "3  Plymouth 2022-02-03       80+          67\n",
       "4  Plymouth 2022-02-03       <20         985"
      ]
     },
     "execution_count": 23,
     "metadata": {},
     "output_type": "execute_result"
    }
   ],
   "source": [
    "# wrangle to get dersired outcome\n",
    "exe_grouped = group_by_broad_age_bands(exe_raw)\n",
    "\n",
    "plym_grouped = group_by_broad_age_bands(plym_raw)\n",
    "\n",
    "plym_grouped.head(5)"
   ]
  },
  {
   "cell_type": "markdown",
   "id": "eec536a3",
   "metadata": {},
   "source": [
    "## The results..."
   ]
  },
  {
   "cell_type": "code",
   "execution_count": 25,
   "id": "4de0343b",
   "metadata": {},
   "outputs": [
    {
     "data": {
      "image/png": "[encoded data removed]",
      "text/plain": [
       "<Figure size 640x480 with 1 Axes>"
      ]
     },
     "metadata": {
      "needs_background": "light"
     },
     "output_type": "display_data"
    },
    {
     "data": {
      "text/plain": [
       "<ggplot: (92560685026)>"
      ]
     },
     "execution_count": 25,
     "metadata": {},
     "output_type": "execute_result"
    }
   ],
   "source": [
    "#stacked bar plot of cases over time - exeter\n",
    "\n",
    "plot_covid_data(exe_grouped)"
   ]
  },
  {
   "cell_type": "code",
   "execution_count": 26,
   "id": "3da7cff5",
   "metadata": {},
   "outputs": [
    {
     "data": {
      "image/png": "[encoded data removed]",
      "text/plain": [
       "<Figure size 640x480 with 1 Axes>"
      ]
     },
     "metadata": {
      "needs_background": "light"
     },
     "output_type": "display_data"
    },
    {
     "data": {
      "text/plain": [
       "<ggplot: (92559712747)>"
      ]
     },
     "execution_count": 26,
     "metadata": {},
     "output_type": "execute_result"
    }
   ],
   "source": [
    "#now try plymouth - first get the data\n",
    "plot_covid_data(plym_grouped)\n"
   ]
  },
  {
   "cell_type": "code",
   "execution_count": null,
   "id": "3e64d76c",
   "metadata": {},
   "outputs": [],
   "source": []
  }
 ],
 "metadata": {
  "kernelspec": {
   "display_name": "Python 3 (ipykernel)",
   "language": "python",
   "name": "python3"
  },
  "language_info": {
   "codemirror_mode": {
    "name": "ipython",
    "version": 3
   },
   "file_extension": ".py",
   "mimetype": "text/x-python",
   "name": "python",
   "nbconvert_exporter": "python",
   "pygments_lexer": "ipython3",
   "version": "3.9.7"
  }
 },
 "nbformat": 4,
 "nbformat_minor": 5
}
